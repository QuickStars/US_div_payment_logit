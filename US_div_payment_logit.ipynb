{
 "cells": [
  {
   "cell_type": "code",
   "id": "initial_id",
   "metadata": {
    "collapsed": true,
    "ExecuteTime": {
     "end_time": "2025-06-01T13:09:44.390362Z",
     "start_time": "2025-06-01T13:09:43.884295Z"
    }
   },
   "source": [
    "import numpy as np\n",
    "import pandas as pd\n",
    "import statsmodels.api as sm\n",
    "import matplotlib.pyplot as plt\n",
    "import seaborn as sns\n"
   ],
   "outputs": [],
   "execution_count": 1
  },
  {
   "metadata": {
    "ExecuteTime": {
     "end_time": "2025-06-01T13:09:44.397503Z",
     "start_time": "2025-06-01T13:09:44.390362Z"
    }
   },
   "cell_type": "code",
   "source": [
    "# Set grpah style\n",
    "sns.set_style(\"whitegrid\")\n",
    "plt.rcParams['font.family'] = 'DejaVu Sans'"
   ],
   "id": "676f1e934806e1be",
   "outputs": [],
   "execution_count": 2
  },
  {
   "metadata": {
    "ExecuteTime": {
     "end_time": "2025-06-01T13:09:44.414223Z",
     "start_time": "2025-06-01T13:09:44.398528Z"
    }
   },
   "cell_type": "code",
   "source": [
    "file_path = 'US_large_cap_div_dataset.csv'\n",
    "data = pd.read_csv(file_path)"
   ],
   "id": "4d82df23579fe783",
   "outputs": [],
   "execution_count": 3
  },
  {
   "metadata": {
    "ExecuteTime": {
     "end_time": "2025-06-01T13:09:44.430818Z",
     "start_time": "2025-06-01T13:09:44.418476Z"
    }
   },
   "cell_type": "code",
   "source": [
    "print(\"Data preview:\")\n",
    "print(data.head())\n",
    "print(\"\\nData shape:\", data.shape)"
   ],
   "id": "2119354adcaf8c7",
   "outputs": [
    {
     "name": "stdout",
     "output_type": "stream",
     "text": [
      "Data preview:\n",
      "   Issue_div  Issued_div_last_year  Net_margin  EBIT_income_growth_yoy  \\\n",
      "0          1                     1    0.558480                1.470369   \n",
      "1          1                     0    0.163531                0.437837   \n",
      "2          1                     1    0.359560                0.236210   \n",
      "3          1                     1    0.488493                6.805871   \n",
      "4          1                     1    0.239713                0.077996   \n",
      "\n",
      "   Net_gearing  Capex_to_EBITDA  \n",
      "0    -0.415243         0.038399  \n",
      "1    -0.032073         0.055635  \n",
      "2     0.083095         0.328790  \n",
      "3    -0.347340         0.030222  \n",
      "4    -0.660070         0.069127  \n",
      "\n",
      "Data shape: (158, 6)\n"
     ]
    }
   ],
   "execution_count": 4
  },
  {
   "metadata": {
    "ExecuteTime": {
     "end_time": "2025-06-01T13:09:44.440034Z",
     "start_time": "2025-06-01T13:09:44.433630Z"
    }
   },
   "cell_type": "code",
   "source": [
    "y = data.iloc[:, 0]  # dependent variable\n",
    "X = data.iloc[:, 1:]  # independent variable"
   ],
   "id": "d1401f3cc406bd94",
   "outputs": [],
   "execution_count": 5
  },
  {
   "metadata": {
    "ExecuteTime": {
     "end_time": "2025-06-01T13:09:44.450042Z",
     "start_time": "2025-06-01T13:09:44.442046Z"
    }
   },
   "cell_type": "code",
   "source": "X = sm.add_constant(X)",
   "id": "b2a12b03a492c428",
   "outputs": [],
   "execution_count": 6
  },
  {
   "metadata": {
    "ExecuteTime": {
     "end_time": "2025-06-01T13:09:44.501166Z",
     "start_time": "2025-06-01T13:09:44.451892Z"
    }
   },
   "cell_type": "code",
   "source": [
    "# train logit model\n",
    "logit_model = sm.Logit(y, X)\n",
    "result = logit_model.fit(maxiter=100, method='bfgs')"
   ],
   "id": "ea74c24465f1408b",
   "outputs": [
    {
     "name": "stdout",
     "output_type": "stream",
     "text": [
      "Optimization terminated successfully.\n",
      "         Current function value: 0.141023\n",
      "         Iterations: 46\n",
      "         Function evaluations: 47\n",
      "         Gradient evaluations: 47\n"
     ]
    }
   ],
   "execution_count": 7
  },
  {
   "metadata": {
    "ExecuteTime": {
     "end_time": "2025-06-01T13:09:44.526505Z",
     "start_time": "2025-06-01T13:09:44.504179Z"
    }
   },
   "cell_type": "code",
   "source": [
    "# Print model summary\n",
    "print(\"\\n\" + \"=\"*80)\n",
    "print(\"Logit model summary:\")\n",
    "print(\"=\"*80)\n",
    "print(result.summary())"
   ],
   "id": "3f9e95a518fc778e",
   "outputs": [
    {
     "name": "stdout",
     "output_type": "stream",
     "text": [
      "\n",
      "================================================================================\n",
      "Logit model summary:\n",
      "================================================================================\n",
      "                           Logit Regression Results                           \n",
      "==============================================================================\n",
      "Dep. Variable:              Issue_div   No. Observations:                  158\n",
      "Model:                          Logit   Df Residuals:                      152\n",
      "Method:                           MLE   Df Model:                            5\n",
      "Date:                Sun, 01 Jun 2025   Pseudo R-squ.:                  0.7946\n",
      "Time:                        21:09:44   Log-Likelihood:                -22.282\n",
      "converged:                       True   LL-Null:                       -108.49\n",
      "Covariance Type:            nonrobust   LLR p-value:                 2.226e-35\n",
      "==========================================================================================\n",
      "                             coef    std err          z      P>|z|      [0.025      0.975]\n",
      "------------------------------------------------------------------------------------------\n",
      "const                     -3.2870      1.072     -3.065      0.002      -5.389      -1.185\n",
      "Issued_div_last_year      14.2677     38.471      0.371      0.711     -61.135      89.670\n",
      "Net_margin                 3.1430      3.609      0.871      0.384      -3.931      10.217\n",
      "EBIT_income_growth_yoy     0.3613      0.350      1.033      0.302      -0.324       1.047\n",
      "Net_gearing               -0.0434      0.322     -0.135      0.893      -0.675       0.588\n",
      "Capex_to_EBITDA            0.9826      1.653      0.594      0.552      -2.257       4.222\n",
      "==========================================================================================\n",
      "\n",
      "Possibly complete quasi-separation: A fraction 0.51 of observations can be\n",
      "perfectly predicted. This might indicate that there is complete\n",
      "quasi-separation. In this case some parameters will not be identified.\n"
     ]
    }
   ],
   "execution_count": 8
  },
  {
   "metadata": {},
   "cell_type": "markdown",
   "source": "",
   "id": "bb536671bd220412"
  },
  {
   "metadata": {
    "ExecuteTime": {
     "end_time": "2025-06-01T13:09:44.534905Z",
     "start_time": "2025-06-01T13:09:44.528535Z"
    }
   },
   "cell_type": "code",
   "source": [
    "coef_df = pd.DataFrame({\n",
    "    'Variable': result.params.index,\n",
    "    'Coefficient': result.params.values,\n",
    "    'Std_Error': result.bse.values,\n",
    "    'z_value': result.tvalues.values,\n",
    "    'p_value': result.pvalues.values,\n",
    "})"
   ],
   "id": "f42472ca3817133f",
   "outputs": [],
   "execution_count": 9
  },
  {
   "metadata": {
    "ExecuteTime": {
     "end_time": "2025-06-01T13:09:44.545617Z",
     "start_time": "2025-06-01T13:09:44.539436Z"
    }
   },
   "cell_type": "code",
   "source": "coef_df['Odds_Ratio'] = np.exp(coef_df['Coefficient'])",
   "id": "925e65886a0eff72",
   "outputs": [],
   "execution_count": 10
  },
  {
   "metadata": {
    "ExecuteTime": {
     "end_time": "2025-06-01T13:09:44.556156Z",
     "start_time": "2025-06-01T13:09:44.547628Z"
    }
   },
   "cell_type": "code",
   "source": "coef_df = coef_df.sort_values('p_value')",
   "id": "dc6bbac01514d1ac",
   "outputs": [],
   "execution_count": 11
  },
  {
   "metadata": {
    "ExecuteTime": {
     "end_time": "2025-06-01T13:09:44.941235Z",
     "start_time": "2025-06-01T13:09:44.557362Z"
    }
   },
   "cell_type": "code",
   "source": [
    "# Visualize result\n",
    "plt.figure(figsize=(14, 10))\n",
    "\n",
    "# Significance\n",
    "plt.subplot(2, 2, 1)\n",
    "significant_vars = coef_df[coef_df['Variable'] != 'const']\n",
    "significant_vars = significant_vars.sort_values('Coefficient', ascending=False)\n",
    "colors = ['gray']\n",
    "plt.barh(significant_vars['Variable'], significant_vars['Coefficient'], color=colors)\n",
    "plt.axvline(x=0, color='k', linestyle='--')\n",
    "plt.title('Logit coefficient')\n",
    "plt.xlabel('Coefficient')\n",
    "plt.ylabel('Variable')"
   ],
   "id": "faca78e311cc0292",
   "outputs": [
    {
     "data": {
      "text/plain": [
       "Text(0, 0.5, 'Variable')"
      ]
     },
     "execution_count": 12,
     "metadata": {},
     "output_type": "execute_result"
    },
    {
     "data": {
      "text/plain": [
       "<Figure size 1400x1000 with 1 Axes>"
      ],
      "image/png": "[encoded data removed]"
     },
     "metadata": {},
     "output_type": "display_data"
    }
   ],
   "execution_count": 12
  },
  {
   "metadata": {
    "ExecuteTime": {
     "end_time": "2025-06-01T13:09:44.952057Z",
     "start_time": "2025-06-01T13:09:44.941235Z"
    }
   },
   "cell_type": "code",
   "source": [
    "file_path_ols = 'US_large_cap_div_dataset_ols.csv'\n",
    "data_ols = pd.read_csv(file_path_ols)"
   ],
   "id": "cd0ef1832ca992d9",
   "outputs": [],
   "execution_count": 13
  },
  {
   "metadata": {
    "ExecuteTime": {
     "end_time": "2025-06-01T13:09:44.962889Z",
     "start_time": "2025-06-01T13:09:44.954088Z"
    }
   },
   "cell_type": "code",
   "source": [
    "y_ols = data_ols.iloc[:, 0]  # dependent variable\n",
    "X_ols = data_ols.iloc[:, 1:]  # independent variable"
   ],
   "id": "33b72647dc3da134",
   "outputs": [],
   "execution_count": 14
  },
  {
   "metadata": {
    "ExecuteTime": {
     "end_time": "2025-06-01T13:09:44.974444Z",
     "start_time": "2025-06-01T13:09:44.965901Z"
    }
   },
   "cell_type": "code",
   "source": "X_ols = sm.add_constant(X_ols)",
   "id": "a11ed47d4b65153a",
   "outputs": [],
   "execution_count": 15
  },
  {
   "metadata": {
    "ExecuteTime": {
     "end_time": "2025-06-01T13:09:44.986478Z",
     "start_time": "2025-06-01T13:09:44.976969Z"
    }
   },
   "cell_type": "code",
   "source": [
    "# train OLS model\n",
    "ols_model = sm.OLS(y_ols, X_ols)\n",
    "result_ols = ols_model.fit(maxiter=100)"
   ],
   "id": "adff9035a63acb59",
   "outputs": [],
   "execution_count": 16
  },
  {
   "metadata": {
    "ExecuteTime": {
     "end_time": "2025-06-01T13:09:45.006357Z",
     "start_time": "2025-06-01T13:09:44.988490Z"
    }
   },
   "cell_type": "code",
   "source": [
    "# Print model summary\n",
    "print(\"\\n\" + \"=\"*80)\n",
    "print(\"OLS model summary:\")\n",
    "print(\"=\"*80)\n",
    "print(result_ols.summary())"
   ],
   "id": "35f90a66ff8f07e",
   "outputs": [
    {
     "name": "stdout",
     "output_type": "stream",
     "text": [
      "\n",
      "================================================================================\n",
      "OLS model summary:\n",
      "================================================================================\n",
      "                            OLS Regression Results                            \n",
      "==============================================================================\n",
      "Dep. Variable:              Issue_div   R-squared:                       0.837\n",
      "Model:                            OLS   Adj. R-squared:                  0.836\n",
      "Method:                 Least Squares   F-statistic:                     799.7\n",
      "Date:                Sun, 01 Jun 2025   Prob (F-statistic):           2.75e-63\n",
      "Time:                        21:09:44   Log-Likelihood:                 29.555\n",
      "No. Observations:                 158   AIC:                            -55.11\n",
      "Df Residuals:                     156   BIC:                            -48.99\n",
      "Df Model:                           1                                         \n",
      "Covariance Type:            nonrobust                                         \n",
      "========================================================================================\n",
      "                           coef    std err          t      P>|t|      [0.025      0.975]\n",
      "----------------------------------------------------------------------------------------\n",
      "const                    0.0909      0.023      3.950      0.000       0.045       0.136\n",
      "Issued_div_last_year     0.9091      0.032     28.280      0.000       0.846       0.973\n",
      "==============================================================================\n",
      "Omnibus:                      160.878   Durbin-Watson:                   1.797\n",
      "Prob(Omnibus):                  0.000   Jarque-Bera (JB):             2054.774\n",
      "Skew:                           4.077   Prob(JB):                         0.00\n",
      "Kurtosis:                      18.673   Cond. No.                         2.65\n",
      "==============================================================================\n",
      "\n",
      "Notes:\n",
      "[1] Standard Errors assume that the covariance matrix of the errors is correctly specified.\n"
     ]
    }
   ],
   "execution_count": 17
  }
 ],
 "metadata": {
  "kernelspec": {
   "display_name": "Python 3",
   "language": "python",
   "name": "python3"
  },
  "language_info": {
   "codemirror_mode": {
    "name": "ipython",
    "version": 2
   },
   "file_extension": ".py",
   "mimetype": "text/x-python",
   "name": "python",
   "nbconvert_exporter": "python",
   "pygments_lexer": "ipython2",
   "version": "2.7.6"
  }
 },
 "nbformat": 4,
 "nbformat_minor": 5
}
